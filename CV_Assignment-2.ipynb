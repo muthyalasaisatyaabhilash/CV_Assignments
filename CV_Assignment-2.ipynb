{
 "cells": [
  {
   "cell_type": "markdown",
   "id": "99b071bc",
   "metadata": {},
   "source": [
    "# Assignment 02 Solutions"
   ]
  },
  {
   "cell_type": "markdown",
   "id": "faed445a",
   "metadata": {},
   "source": [
    "#### 1. Explain convolutional neural network, and how does it work ?"
   ]
  },
  {
   "cell_type": "markdown",
   "id": "eac4ef66",
   "metadata": {},
   "source": [
    "A convolutional neural network (CNN or ConvNet) is a network architecture for deep learning that learns directly from data.\n",
    "\n",
    "CNNs are particularly useful for finding patterns in images to recognize objects, classes, and categories. They can also be quite effective for classifying audio, time-series, and signal data.\n",
    "A convolutional neural network can have tens or hundreds of layers that each learn to detect different features of an image. Filters are applied to each training image at different resolutions, and the output of each convolved image is used as the input to the next layer. The filters can start as very simple features, such as brightness and edges, and increase in complexity to features that uniquely define the object"
   ]
  },
  {
   "cell_type": "markdown",
   "id": "0804ecc1",
   "metadata": {},
   "source": [
    "#### 2. How does refactoring parts of your neural network definition favor you ?"
   ]
  },
  {
   "cell_type": "markdown",
   "id": "61ba1de0",
   "metadata": {},
   "source": [
    "Refactoring parts of a neural network definition can have several advantages, including:\n",
    "\n",
    "Improved readability and maintainability: By breaking up a large, complex neural network into smaller, more modular components, it can be easier to understand and modify the network. This can be especially important for large, complex networks with many layers or parameters.\n",
    "\n",
    "Reusability: Refactoring a neural network into modular components can make it easier to reuse parts of the network in different contexts or for different tasks. For example, you might reuse the convolutional layers of a neural network for a different image classification task, or reuse the encoder portion of a neural network for a different natural language processing task.\n",
    "\n",
    "Scalability: Refactoring a neural network into smaller components can make it easier to scale the network to handle larger datasets or more complex tasks. By breaking up the network into smaller pieces, it may be possible to parallelize some of the computation or distribute the network across multiple machines."
   ]
  },
  {
   "cell_type": "markdown",
   "id": "a300559d",
   "metadata": {},
   "source": [
    "#### 3. What does it mean to flatten? Is it necessary to include it in the MNIST CNN? What is the reason for this ?"
   ]
  },
  {
   "cell_type": "markdown",
   "id": "988ae023",
   "metadata": {},
   "source": [
    "Convolutional Neural Networks have changed the way we classify images. It is being used in almost all the computer vision tasks. From 2012, CNN’s have ruled the Imagenet competition, dropping the classification error rate each year. MNIST is the most studied dataset (link).\n",
    "\n",
    "The state of the art result for MNIST dataset has an accuracy of 99.79%. In this article, we will achieve an accuracy of 99.55%."
   ]
  },
  {
   "cell_type": "markdown",
   "id": "4246d2fe",
   "metadata": {},
   "source": [
    "#### 4. What exactly does NCHW stand for ?"
   ]
  },
  {
   "cell_type": "markdown",
   "id": "0e361a5e",
   "metadata": {},
   "source": [
    "**Ans:** NCHW stands for: **batch N, channels C, depth D, height H, width W**. It is a way to store multidimensional arrays / data frames / matrix into memory, which can be considered as a 1-D array."
   ]
  },
  {
   "cell_type": "markdown",
   "id": "76b8aa18",
   "metadata": {},
   "source": [
    "#### 5. Why are there 7*7*(1168-16) multiplications in the MNIST CNN's third layer ?"
   ]
  },
  {
   "cell_type": "markdown",
   "id": "7c171c7a",
   "metadata": {},
   "source": [
    "the number of multiplications in a convolutional layer of a CNN is determined by the size of the input, the size of the kernel, the number of input channels, and the number of output channels.\n",
    "\n",
    "Assuming that the input to the third layer of the MNIST CNN is a feature map of size 16x16 with 77 input channels, and that the layer uses a kernel of size 3x3 and 109 output channels, then there would be 77 * 3 * 3 * 109 = 275,769 multiplications per forward pass. This is calculated as follows:\n",
    "\n",
    "Each output channel of the layer is computed by performing a convolution between the input feature map and a 3x3 kernel.\n",
    "For each output channel, the kernel is slid across the input feature map, computing a dot product between the kernel and the corresponding portion of the input feature map.\n",
    "Since the kernel has 3x3 = 9 weights, and there are 77 input channels and 109 output channels, there are a total of 77 * 3 * 3 * 109 = 275,769 multiplications that must be performed to compute the output of the layer."
   ]
  },
  {
   "cell_type": "markdown",
   "id": "4bf4effd",
   "metadata": {},
   "source": [
    "#### 6.Explain definition of  receptive field ?"
   ]
  },
  {
   "cell_type": "markdown",
   "id": "10492bb1",
   "metadata": {},
   "source": [
    "The receptive field encompasses the sensory receptors that feed into sensory neurons and thus includes specific receptors on a neuron as well as collectives of receptors that are capable of activating a neuron via synaptic connections."
   ]
  },
  {
   "cell_type": "markdown",
   "id": "2fac40b1",
   "metadata": {},
   "source": [
    "#### 7. What is the scale of an activation's receptive field after two stride-2 convolutions? What is the reason for this ?"
   ]
  },
  {
   "cell_type": "markdown",
   "id": "91315f8c",
   "metadata": {},
   "source": [
    "The receptive field of an activation refers to the region of the input space that affects a particular neuron's output. Each neuron in a convolutional layer is connected to a small region of the previous layer's activations, known as its receptive field. As we move deeper into the network, the receptive field of each neuron increases, since it is influenced by a larger region of the input.             \n",
    "\n",
    "When we apply a stride-2 convolution, the output of the layer is downsampled by a factor of 2 in each dimension, so each neuron in the output layer is only influenced by a small region of the input, corresponding to a 2x2 neighborhood. If we apply two consecutive stride-2 convolutions, the output is downsampled by a factor of 2 twice, resulting in an overall downsampling factor of 4 in each dimension. As a result, each neuron in the output layer is influenced by a larger receptive field, corresponding to a 4x4 neighborhood of the input.\n",
    "\n"
   ]
  },
  {
   "cell_type": "markdown",
   "id": "36e94190",
   "metadata": {},
   "source": [
    "#### 8. What is the tensor representation of a color image ?"
   ]
  },
  {
   "cell_type": "markdown",
   "id": "e60cd6ee",
   "metadata": {},
   "source": [
    "**Ans:** The representation of an image can take many forms. Most of the time, it refers to the way that the conveyed information, such as color, is coded digitally and how the image is stored, i.e., how is structured an image file. Several open or patented standards were proposed to create, manipulate, store and exchange digital images. They describe the format of image files, the algorithms of image encoding such as compression as well as the format of additional information often called metadata.\n",
    "\n",
    "**TENSORS IMAGES**   \n",
    "Tensors can be understood as nested lists of objects of the previous order all with the same size. For example, an order three tensor can be thought of as a list of matrices all of which have the same number of rows and columns. These matrices are tensors of order two and since they have all the same number of rows and columns, the tensor of order three is actually like a cuboid of numbers and we can find numbers by going along any of the three-axis. Each number is identified by the row, the column, and the depth at which it’s stored. We can formalize this idea in the concept of shape."
   ]
  },
  {
   "cell_type": "markdown",
   "id": "84baff66",
   "metadata": {},
   "source": [
    "#### 9. How does a color input interact with a convolution ?"
   ]
  },
  {
   "cell_type": "markdown",
   "id": "63c1772b",
   "metadata": {},
   "source": [
    "In a color input, each pixel is represented by three color channels - red, green, and blue (RGB) - rather than a single grayscale channel. When we apply a convolution to a color image, we typically treat each color channel separately and perform convolutions on each channel independently. This is known as \"channel-wise convolution\"."
   ]
  },
  {
   "cell_type": "code",
   "execution_count": null,
   "id": "a18c97cf",
   "metadata": {},
   "outputs": [],
   "source": []
  }
 ],
 "metadata": {
  "kernelspec": {
   "display_name": "Python 3 (ipykernel)",
   "language": "python",
   "name": "python3"
  },
  "language_info": {
   "codemirror_mode": {
    "name": "ipython",
    "version": 3
   },
   "file_extension": ".py",
   "mimetype": "text/x-python",
   "name": "python",
   "nbconvert_exporter": "python",
   "pygments_lexer": "ipython3",
   "version": "3.9.7"
  }
 },
 "nbformat": 4,
 "nbformat_minor": 5
}
